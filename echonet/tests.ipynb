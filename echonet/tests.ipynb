{
 "cells": [
  {
   "cell_type": "code",
   "execution_count": 2,
   "metadata": {},
   "outputs": [],
   "source": [
    "import pandas as pd\n",
    "import ast"
   ]
  },
  {
   "cell_type": "code",
   "execution_count": 6,
   "metadata": {},
   "outputs": [],
   "source": [
    "file = \"G:\\\\My Drive\\\\EchoNet\\\\output_20peak\\\\features\\\\test.csv\"\n",
    "with open(\"G:\\\\My Drive\\\\EchoNet\\\\output_20peak\\\\features\\\\testn.csv\",'w') as f:\n",
    "    with open(file, 'rt') as src:\n",
    "        for line in src:\n",
    "            f.write(line.replace(\"(\",\"\\\"[\").replace(\")\",\"]\\\"\").replace(\"[[\",\"\\\"[[\").replace(\"]]\",\"]]\\\"\"))\n"
   ]
  },
  {
   "cell_type": "code",
   "execution_count": 17,
   "metadata": {},
   "outputs": [],
   "source": [
    "data = pd.read_csv(\"G:\\\\My Drive\\\\EchoNet\\\\output_20peak\\\\features\\\\circle_test.csv\",\n",
    "                    quotechar='\"',sep=',',\n",
    "                    usecols = ['Filename','Frame','ComputerSmall','ComputerLarge'],\n",
    "                    converters={\"Boundaries\":ast.literal_eval,'Centroid':ast.literal_eval})\n"
   ]
  },
  {
   "cell_type": "code",
   "execution_count": 18,
   "metadata": {},
   "outputs": [
    {
     "name": "stdout",
     "output_type": "stream",
     "text": [
      "<class 'pandas.core.frame.DataFrame'>\n",
      "RangeIndex: 31482 entries, 0 to 31481\n",
      "Data columns (total 4 columns):\n",
      " #   Column         Non-Null Count  Dtype \n",
      "---  ------         --------------  ----- \n",
      " 0   Filename       31482 non-null  object\n",
      " 1   Frame          31482 non-null  int64 \n",
      " 2   ComputerSmall  31482 non-null  int64 \n",
      " 3   ComputerLarge  31482 non-null  int64 \n",
      "dtypes: int64(3), object(1)\n",
      "memory usage: 983.9+ KB\n",
      "None\n",
      "1276\n"
     ]
    }
   ],
   "source": [
    "print(data.info())\n",
    "print(data['Filename'].nunique())"
   ]
  },
  {
   "cell_type": "code",
   "execution_count": 19,
   "metadata": {},
   "outputs": [],
   "source": [
    "videos = data.groupby('Filename')\n",
    "all_bad_videos = []\n",
    "for video_name, video in videos:\n",
    "    peaks = video[(video['ComputerLarge'] == 1) | (video['ComputerSmall'] == 1)]\n",
    "    peaks = peaks.reset_index(drop=True)\n",
    "    for i in range(0,peaks.shape[0]):\n",
    "        if i == 0:\n",
    "            if peaks.loc[i]['ComputerLarge'] == 1:\n",
    "                flag = True\n",
    "            else:\n",
    "                flag = False\n",
    "            continue\n",
    "        if peaks.loc[i]['ComputerLarge'] == 1:\n",
    "            if flag:\n",
    "                if i%2!=0:\n",
    "                    all_bad_videos.append(video_name)\n",
    "                    break\n",
    "            else:\n",
    "                if i%2==0:\n",
    "                    all_bad_videos.append(video_name)\n",
    "                    break\n",
    "        else:\n",
    "            if flag:\n",
    "                if i%2==0:\n",
    "                    all_bad_videos.append(video_name)\n",
    "                    break\n",
    "            else:\n",
    "                if i%2!=0:\n",
    "                    all_bad_videos.append(video_name)\n",
    "                    break"
   ]
  },
  {
   "cell_type": "code",
   "execution_count": 20,
   "metadata": {},
   "outputs": [
    {
     "data": {
      "text/plain": [
       "34"
      ]
     },
     "execution_count": 20,
     "metadata": {},
     "output_type": "execute_result"
    }
   ],
   "source": [
    "len(all_bad_videos)"
   ]
  },
  {
   "cell_type": "code",
   "execution_count": 21,
   "metadata": {},
   "outputs": [
    {
     "data": {
      "text/plain": [
       "['0X17E51BF21235E28B.avi',\n",
       " '0X1B2BCDAE290F6015.avi',\n",
       " '0X2077ABE141A56534.avi',\n",
       " '0X211D307253ACBEE7.avi',\n",
       " '0X25651736878239CE.avi',\n",
       " '0X25BD4EC399A57695.avi',\n",
       " '0X2889D8C33077C148.avi',\n",
       " '0X28EDD31B54CBEBD9.avi',\n",
       " '0X2A928235B332DBCF.avi',\n",
       " '0X2CBCF722CBB5B80D.avi',\n",
       " '0X2D8A896770271A60.avi',\n",
       " '0X30DF42C999969D67.avi',\n",
       " '0X379CA9FEA4B8D934.avi',\n",
       " '0X3B0C001E8B03BB10.avi',\n",
       " '0X3CC2AB71D7704B20.avi',\n",
       " '0X40BF3AC7A4247121.avi',\n",
       " '0X4EFB94EA8F9FC7C2.avi',\n",
       " '0X517B9EA7B3FBEE17.avi',\n",
       " '0X5406E97A85CAEB10.avi',\n",
       " '0X554AC1E23B17F678.avi',\n",
       " '0X5AA42E877A34343C.avi',\n",
       " '0X5FE2CC293BF88CCD.avi',\n",
       " '0X66E92E721D27BF17.avi',\n",
       " '0X6767F4359E20EE24.avi',\n",
       " '0X6A11E31F14ADFDEE.avi',\n",
       " '0X6C56FD0ECEF3C539.avi',\n",
       " '0X7327AFFC293E3F3E.avi',\n",
       " '0X7484EE46AD3659CC.avi',\n",
       " '0X753D4BE480775FE7.avi',\n",
       " '0X7ACA82C5A670004C.avi',\n",
       " '0X7D4E031123DA9E4F.avi',\n",
       " '0X9A03DC1334986F3.avi',\n",
       " '0X9F2D61012CC7FCA.avi',\n",
       " '0XBCEAB22A81A23C1.avi']"
      ]
     },
     "execution_count": 21,
     "metadata": {},
     "output_type": "execute_result"
    }
   ],
   "source": [
    "all_bad_videos"
   ]
  },
  {
   "cell_type": "code",
   "execution_count": 22,
   "metadata": {},
   "outputs": [],
   "source": [
    "peaks = data[(data['Filename'] == '0X17E51BF21235E28B.avi') & ((data['ComputerLarge'] == 1) | (data['ComputerSmall'] == 1))]\n"
   ]
  },
  {
   "cell_type": "code",
   "execution_count": 24,
   "metadata": {},
   "outputs": [],
   "source": [
    "peaks = data[(data['Filename'] == '0X17E51BF21235E28B.avi')]"
   ]
  },
  {
   "cell_type": "code",
   "execution_count": 25,
   "metadata": {},
   "outputs": [
    {
     "data": {
      "text/html": [
       "<div>\n",
       "<style scoped>\n",
       "    .dataframe tbody tr th:only-of-type {\n",
       "        vertical-align: middle;\n",
       "    }\n",
       "\n",
       "    .dataframe tbody tr th {\n",
       "        vertical-align: top;\n",
       "    }\n",
       "\n",
       "    .dataframe thead th {\n",
       "        text-align: right;\n",
       "    }\n",
       "</style>\n",
       "<table border=\"1\" class=\"dataframe\">\n",
       "  <thead>\n",
       "    <tr style=\"text-align: right;\">\n",
       "      <th></th>\n",
       "      <th>Filename</th>\n",
       "      <th>Frame</th>\n",
       "      <th>ComputerSmall</th>\n",
       "      <th>ComputerLarge</th>\n",
       "    </tr>\n",
       "  </thead>\n",
       "  <tbody>\n",
       "    <tr>\n",
       "      <th>1525</th>\n",
       "      <td>0X17E51BF21235E28B.avi</td>\n",
       "      <td>39</td>\n",
       "      <td>1</td>\n",
       "      <td>0</td>\n",
       "    </tr>\n",
       "    <tr>\n",
       "      <th>1526</th>\n",
       "      <td>0X17E51BF21235E28B.avi</td>\n",
       "      <td>40</td>\n",
       "      <td>0</td>\n",
       "      <td>0</td>\n",
       "    </tr>\n",
       "    <tr>\n",
       "      <th>1527</th>\n",
       "      <td>0X17E51BF21235E28B.avi</td>\n",
       "      <td>41</td>\n",
       "      <td>0</td>\n",
       "      <td>0</td>\n",
       "    </tr>\n",
       "    <tr>\n",
       "      <th>1528</th>\n",
       "      <td>0X17E51BF21235E28B.avi</td>\n",
       "      <td>42</td>\n",
       "      <td>0</td>\n",
       "      <td>0</td>\n",
       "    </tr>\n",
       "    <tr>\n",
       "      <th>1529</th>\n",
       "      <td>0X17E51BF21235E28B.avi</td>\n",
       "      <td>43</td>\n",
       "      <td>0</td>\n",
       "      <td>1</td>\n",
       "    </tr>\n",
       "    <tr>\n",
       "      <th>1530</th>\n",
       "      <td>0X17E51BF21235E28B.avi</td>\n",
       "      <td>49</td>\n",
       "      <td>0</td>\n",
       "      <td>0</td>\n",
       "    </tr>\n",
       "    <tr>\n",
       "      <th>1531</th>\n",
       "      <td>0X17E51BF21235E28B.avi</td>\n",
       "      <td>55</td>\n",
       "      <td>0</td>\n",
       "      <td>0</td>\n",
       "    </tr>\n",
       "    <tr>\n",
       "      <th>1532</th>\n",
       "      <td>0X17E51BF21235E28B.avi</td>\n",
       "      <td>61</td>\n",
       "      <td>0</td>\n",
       "      <td>0</td>\n",
       "    </tr>\n",
       "    <tr>\n",
       "      <th>1533</th>\n",
       "      <td>0X17E51BF21235E28B.avi</td>\n",
       "      <td>66</td>\n",
       "      <td>0</td>\n",
       "      <td>1</td>\n",
       "    </tr>\n",
       "    <tr>\n",
       "      <th>1534</th>\n",
       "      <td>0X17E51BF21235E28B.avi</td>\n",
       "      <td>72</td>\n",
       "      <td>0</td>\n",
       "      <td>0</td>\n",
       "    </tr>\n",
       "    <tr>\n",
       "      <th>1535</th>\n",
       "      <td>0X17E51BF21235E28B.avi</td>\n",
       "      <td>78</td>\n",
       "      <td>0</td>\n",
       "      <td>0</td>\n",
       "    </tr>\n",
       "    <tr>\n",
       "      <th>1536</th>\n",
       "      <td>0X17E51BF21235E28B.avi</td>\n",
       "      <td>84</td>\n",
       "      <td>0</td>\n",
       "      <td>0</td>\n",
       "    </tr>\n",
       "    <tr>\n",
       "      <th>1537</th>\n",
       "      <td>0X17E51BF21235E28B.avi</td>\n",
       "      <td>89</td>\n",
       "      <td>1</td>\n",
       "      <td>0</td>\n",
       "    </tr>\n",
       "    <tr>\n",
       "      <th>1538</th>\n",
       "      <td>0X17E51BF21235E28B.avi</td>\n",
       "      <td>94</td>\n",
       "      <td>0</td>\n",
       "      <td>0</td>\n",
       "    </tr>\n",
       "    <tr>\n",
       "      <th>1539</th>\n",
       "      <td>0X17E51BF21235E28B.avi</td>\n",
       "      <td>99</td>\n",
       "      <td>0</td>\n",
       "      <td>0</td>\n",
       "    </tr>\n",
       "    <tr>\n",
       "      <th>1540</th>\n",
       "      <td>0X17E51BF21235E28B.avi</td>\n",
       "      <td>104</td>\n",
       "      <td>0</td>\n",
       "      <td>0</td>\n",
       "    </tr>\n",
       "    <tr>\n",
       "      <th>1541</th>\n",
       "      <td>0X17E51BF21235E28B.avi</td>\n",
       "      <td>106</td>\n",
       "      <td>0</td>\n",
       "      <td>1</td>\n",
       "    </tr>\n",
       "  </tbody>\n",
       "</table>\n",
       "</div>"
      ],
      "text/plain": [
       "                    Filename  Frame  ComputerSmall  ComputerLarge\n",
       "1525  0X17E51BF21235E28B.avi     39              1              0\n",
       "1526  0X17E51BF21235E28B.avi     40              0              0\n",
       "1527  0X17E51BF21235E28B.avi     41              0              0\n",
       "1528  0X17E51BF21235E28B.avi     42              0              0\n",
       "1529  0X17E51BF21235E28B.avi     43              0              1\n",
       "1530  0X17E51BF21235E28B.avi     49              0              0\n",
       "1531  0X17E51BF21235E28B.avi     55              0              0\n",
       "1532  0X17E51BF21235E28B.avi     61              0              0\n",
       "1533  0X17E51BF21235E28B.avi     66              0              1\n",
       "1534  0X17E51BF21235E28B.avi     72              0              0\n",
       "1535  0X17E51BF21235E28B.avi     78              0              0\n",
       "1536  0X17E51BF21235E28B.avi     84              0              0\n",
       "1537  0X17E51BF21235E28B.avi     89              1              0\n",
       "1538  0X17E51BF21235E28B.avi     94              0              0\n",
       "1539  0X17E51BF21235E28B.avi     99              0              0\n",
       "1540  0X17E51BF21235E28B.avi    104              0              0\n",
       "1541  0X17E51BF21235E28B.avi    106              0              1"
      ]
     },
     "execution_count": 25,
     "metadata": {},
     "output_type": "execute_result"
    }
   ],
   "source": [
    "peaks"
   ]
  },
  {
   "cell_type": "code",
   "execution_count": null,
   "metadata": {},
   "outputs": [],
   "source": []
  }
 ],
 "metadata": {
  "interpreter": {
   "hash": "29ed0acbcf2f21a48b11330d5b28f78140edc13c5c73787e61a2894edd1765b0"
  },
  "kernelspec": {
   "display_name": "Python 3.7.6 64-bit ('tarV2': conda)",
   "language": "python",
   "name": "python3"
  },
  "language_info": {
   "codemirror_mode": {
    "name": "ipython",
    "version": 3
   },
   "file_extension": ".py",
   "mimetype": "text/x-python",
   "name": "python",
   "nbconvert_exporter": "python",
   "pygments_lexer": "ipython3",
   "version": "3.7.6"
  },
  "orig_nbformat": 4
 },
 "nbformat": 4,
 "nbformat_minor": 2
}
